{
  "nbformat": 4,
  "nbformat_minor": 0,
  "metadata": {
    "colab": {
      "name": "notebook.ipynb",
      "provenance": [],
      "collapsed_sections": [],
      "include_colab_link": true
    },
    "kernelspec": {
      "name": "python3",
      "display_name": "Python 3"
    }
  },
  "cells": [
    {
      "cell_type": "markdown",
      "metadata": {
        "id": "view-in-github",
        "colab_type": "text"
      },
      "source": [
        "<a href=\"https://colab.research.google.com/github/MBraum/SleepStudy/blob/master/GridSearch.ipynb\" target=\"_parent\"><img src=\"https://colab.research.google.com/assets/colab-badge.svg\" alt=\"Open In Colab\"/></a>"
      ]
    },
    {
      "cell_type": "code",
      "metadata": {
        "id": "OuhFHfG4GvTg",
        "colab_type": "code",
        "colab": {}
      },
      "source": [
        "from sklearn.datasets import load_iris\n",
        "from sklearn.svm import SVC\n",
        "from sklearn.model_selection import cross_val_score\n",
        "import matplotlib.pyplot as plt\n",
        "import numpy as np"
      ],
      "execution_count": null,
      "outputs": []
    },
    {
      "cell_type": "code",
      "metadata": {
        "id": "fcakqByAScXU",
        "colab_type": "code",
        "colab": {}
      },
      "source": [
        "iris = load_iris()\n",
        "X = iris.data\n",
        "y = iris.target"
      ],
      "execution_count": null,
      "outputs": []
    },
    {
      "cell_type": "code",
      "metadata": {
        "id": "kfJfDI60T0HH",
        "colab_type": "code",
        "colab": {
          "base_uri": "https://localhost:8080/",
          "height": 52
        },
        "outputId": "da433566-f0e7-45c2-8f00-b97c55193799"
      },
      "source": [
        "from sklearn.preprocessing import StandardScaler\n",
        "from sklearn.pipeline import Pipeline\n",
        "\n",
        "standardScaler = StandardScaler()\n",
        "svm = SVC(kernel=\"linear\", C = 0.1)\n",
        "\n",
        "pipeline = Pipeline([('transformer', standardScaler), ('predictor', svm)])\n",
        "\n",
        "scores = cross_val_score(pipeline, X, y, cv=10, scoring=\"accuracy\")\n",
        "scores"
      ],
      "execution_count": null,
      "outputs": [
        {
          "output_type": "execute_result",
          "data": {
            "text/plain": [
              "array([1.        , 0.93333333, 1.        , 1.        , 1.        ,\n",
              "       0.93333333, 0.86666667, 1.        , 1.        , 1.        ])"
            ]
          },
          "metadata": {
            "tags": []
          },
          "execution_count": 6
        }
      ]
    },
    {
      "cell_type": "code",
      "metadata": {
        "id": "g-8LRc1_ZzP1",
        "colab_type": "code",
        "colab": {
          "base_uri": "https://localhost:8080/",
          "height": 35
        },
        "outputId": "69d34687-c8a4-409e-c040-83aeaf165fad"
      },
      "source": [
        "scores.mean()"
      ],
      "execution_count": null,
      "outputs": [
        {
          "output_type": "execute_result",
          "data": {
            "text/plain": [
              "0.9733333333333334"
            ]
          },
          "metadata": {
            "tags": []
          },
          "execution_count": 7
        }
      ]
    },
    {
      "cell_type": "code",
      "metadata": {
        "id": "LRPXrGJNZ5EZ",
        "colab_type": "code",
        "colab": {
          "base_uri": "https://localhost:8080/",
          "height": 89
        },
        "outputId": "7584114f-d5cc-45c4-877f-01567ec45848"
      },
      "source": [
        "C_range = np.logspace(-2, 3, 8)\n",
        "C_scores = []\n",
        "\n",
        "for C in C_range :\n",
        "  svm = SVC(kernel=\"linear\", C=C)\n",
        "  standardScaler = StandardScaler()\n",
        "  pipeline = Pipeline([('transformer', standardScaler), ('predictor', svm)])\n",
        "  score = cross_val_score(pipeline, X, y, cv=10, scoring=\"accuracy\")\n",
        "  C_scores.append(score.mean())\n",
        "\n",
        "print(C_range)\n",
        "print(C_scores)"
      ],
      "execution_count": null,
      "outputs": [
        {
          "output_type": "stream",
          "text": [
            "[1.00000000e-02 5.17947468e-02 2.68269580e-01 1.38949549e+00\n",
            " 7.19685673e+00 3.72759372e+01 1.93069773e+02 1.00000000e+03]\n",
            "[0.8933333333333333, 0.9533333333333334, 0.9666666666666668, 0.9666666666666668, 0.9666666666666668, 0.9800000000000001, 0.9733333333333334, 0.9733333333333334]\n"
          ],
          "name": "stdout"
        }
      ]
    },
    {
      "cell_type": "code",
      "metadata": {
        "id": "pCFFZyjVb61k",
        "colab_type": "code",
        "colab": {}
      },
      "source": [
        "from sklearn.model_selection import GridSearchCV # Mais eficiente"
      ],
      "execution_count": null,
      "outputs": []
    },
    {
      "cell_type": "code",
      "metadata": {
        "id": "Wd4nxWt2cJet",
        "colab_type": "code",
        "colab": {
          "base_uri": "https://localhost:8080/",
          "height": 72
        },
        "outputId": "6252a473-7401-45f7-c4b3-f3ce553ba8a4"
      },
      "source": [
        "C_range = np.logspace(-2, 3, 8)\n",
        "\n",
        "param_grid = dict(predictor__C = C_range)\n",
        "print(param_grid)"
      ],
      "execution_count": null,
      "outputs": [
        {
          "output_type": "stream",
          "text": [
            "{'predictor__C': array([1.00000000e-02, 5.17947468e-02, 2.68269580e-01, 1.38949549e+00,\n",
            "       7.19685673e+00, 3.72759372e+01, 1.93069773e+02, 1.00000000e+03])}\n"
          ],
          "name": "stdout"
        }
      ]
    },
    {
      "cell_type": "code",
      "metadata": {
        "id": "n8xOHl3ZcyZh",
        "colab_type": "code",
        "colab": {
          "base_uri": "https://localhost:8080/",
          "height": 422
        },
        "outputId": "56cf2fbc-0ed6-4b48-b03e-55b6bdfd3823"
      },
      "source": [
        "standardScaler = StandardScaler()\n",
        "svm = SVC(kernel=\"linear\", C=0.1)\n",
        "pipeline = Pipeline([('transformer', standardScaler), ('predictor', svm)])\n",
        "grid = GridSearchCV(pipeline, param_grid, cv=10, scoring='accuracy')\n",
        "grid.fit(X, y)\n"
      ],
      "execution_count": null,
      "outputs": [
        {
          "output_type": "execute_result",
          "data": {
            "text/plain": [
              "GridSearchCV(cv=10, error_score=nan,\n",
              "             estimator=Pipeline(memory=None,\n",
              "                                steps=[('transformer',\n",
              "                                        StandardScaler(copy=True,\n",
              "                                                       with_mean=True,\n",
              "                                                       with_std=True)),\n",
              "                                       ('predictor',\n",
              "                                        SVC(C=0.1, break_ties=False,\n",
              "                                            cache_size=200, class_weight=None,\n",
              "                                            coef0=0.0,\n",
              "                                            decision_function_shape='ovr',\n",
              "                                            degree=3, gamma='scale',\n",
              "                                            kernel='linear', max_iter=-1,\n",
              "                                            probability=False,\n",
              "                                            random_state=None, shrinking=True,\n",
              "                                            tol=0.001, verbose=False))],\n",
              "                                verbose=False),\n",
              "             iid='deprecated', n_jobs=None,\n",
              "             param_grid={'predictor__C': array([1.00000000e-02, 5.17947468e-02, 2.68269580e-01, 1.38949549e+00,\n",
              "       7.19685673e+00, 3.72759372e+01, 1.93069773e+02, 1.00000000e+03])},\n",
              "             pre_dispatch='2*n_jobs', refit=True, return_train_score=False,\n",
              "             scoring='accuracy', verbose=0)"
            ]
          },
          "metadata": {
            "tags": []
          },
          "execution_count": 16
        }
      ]
    },
    {
      "cell_type": "code",
      "metadata": {
        "id": "MXfKxDUVd58Q",
        "colab_type": "code",
        "colab": {
          "base_uri": "https://localhost:8080/",
          "height": 52
        },
        "outputId": "add50019-3395-4c58-dbd7-3097b81c0832"
      },
      "source": [
        "grid.cv_results_[\"mean_test_score\"]"
      ],
      "execution_count": null,
      "outputs": [
        {
          "output_type": "execute_result",
          "data": {
            "text/plain": [
              "array([0.89333333, 0.95333333, 0.96666667, 0.96666667, 0.96666667,\n",
              "       0.98      , 0.97333333, 0.97333333])"
            ]
          },
          "metadata": {
            "tags": []
          },
          "execution_count": 17
        }
      ]
    },
    {
      "cell_type": "code",
      "metadata": {
        "id": "gbotK7LDeZhz",
        "colab_type": "code",
        "colab": {
          "base_uri": "https://localhost:8080/",
          "height": 157
        },
        "outputId": "3f7ce5ca-5f78-4d89-f826-d4e28700a722"
      },
      "source": [
        "grid.cv_results_[\"params\"]"
      ],
      "execution_count": null,
      "outputs": [
        {
          "output_type": "execute_result",
          "data": {
            "text/plain": [
              "[{'predictor__C': 0.01},\n",
              " {'predictor__C': 0.05179474679231213},\n",
              " {'predictor__C': 0.2682695795279726},\n",
              " {'predictor__C': 1.3894954943731375},\n",
              " {'predictor__C': 7.196856730011521},\n",
              " {'predictor__C': 37.27593720314942},\n",
              " {'predictor__C': 193.06977288832496},\n",
              " {'predictor__C': 1000.0}]"
            ]
          },
          "metadata": {
            "tags": []
          },
          "execution_count": 18
        }
      ]
    },
    {
      "cell_type": "code",
      "metadata": {
        "id": "192_tvqqemHp",
        "colab_type": "code",
        "colab": {}
      },
      "source": [
        "print(grid.best_score_)\n",
        "print(grid.best_params_)\n",
        "print(grid.best_estimator_)\n",
        "#grid.predict()"
      ],
      "execution_count": null,
      "outputs": []
    },
    {
      "cell_type": "markdown",
      "metadata": {
        "id": "XNXCyqlaTagw",
        "colab_type": "text"
      },
      "source": [
        "## Usando os melhores parâmetros"
      ]
    },
    {
      "cell_type": "code",
      "metadata": {
        "id": "iZmU9Dg4Tdip",
        "colab_type": "code",
        "colab": {
          "base_uri": "https://localhost:8080/",
          "height": 107
        },
        "outputId": "baa7d1dd-47d9-4b65-db2c-1db9d1010e54"
      },
      "source": [
        "## Retreinando\n",
        "standardScaler = StandardScaler()\n",
        "X_scaled       = standardScaler.fit_transform(X)\n",
        "\n",
        "svm = SVC(kernel=\"linear\", C = 37.27593720314942)\n",
        "svm.fit(X_scaled, y)"
      ],
      "execution_count": null,
      "outputs": [
        {
          "output_type": "execute_result",
          "data": {
            "text/plain": [
              "SVC(C=37.27593720314942, break_ties=False, cache_size=200, class_weight=None,\n",
              "    coef0=0.0, decision_function_shape='ovr', degree=3, gamma='scale',\n",
              "    kernel='linear', max_iter=-1, probability=False, random_state=None,\n",
              "    shrinking=True, tol=0.001, verbose=False)"
            ]
          },
          "metadata": {
            "tags": []
          },
          "execution_count": 21
        }
      ]
    },
    {
      "cell_type": "code",
      "metadata": {
        "id": "phzLbTO0U9DT",
        "colab_type": "code",
        "colab": {
          "base_uri": "https://localhost:8080/",
          "height": 34
        },
        "outputId": "c32f486b-01f4-4a87-b7a6-b96e620d65bd"
      },
      "source": [
        "new_instances = [[6.1, 2.4, 1.2, 0.1], [5.1, 1.4, 4.6, 1.0]]\n",
        "new_instances_scaled = standardScaler.transform(new_instances)\n",
        "svm.predict(new_instances_scaled)"
      ],
      "execution_count": null,
      "outputs": [
        {
          "output_type": "execute_result",
          "data": {
            "text/plain": [
              "array([0, 1])"
            ]
          },
          "metadata": {
            "tags": []
          },
          "execution_count": 24
        }
      ]
    },
    {
      "cell_type": "code",
      "metadata": {
        "id": "y2HIwoQjWZLz",
        "colab_type": "code",
        "colab": {
          "base_uri": "https://localhost:8080/",
          "height": 34
        },
        "outputId": "b564a49b-f075-4082-cd79-00ee8a2af5a3"
      },
      "source": [
        "grid.predict(new_instances)"
      ],
      "execution_count": null,
      "outputs": [
        {
          "output_type": "execute_result",
          "data": {
            "text/plain": [
              "array([0, 1])"
            ]
          },
          "metadata": {
            "tags": []
          },
          "execution_count": 26
        }
      ]
    },
    {
      "cell_type": "markdown",
      "metadata": {
        "id": "48lxa_HlXg6J",
        "colab_type": "text"
      },
      "source": [
        "## Random Search (mais barato)"
      ]
    },
    {
      "cell_type": "code",
      "metadata": {
        "id": "3Giwx9CoXktS",
        "colab_type": "code",
        "colab": {}
      },
      "source": [
        "from sklearn.model_selection import RandomizedSearchCV"
      ],
      "execution_count": null,
      "outputs": []
    },
    {
      "cell_type": "code",
      "metadata": {
        "id": "bIg74UgjXsVq",
        "colab_type": "code",
        "colab": {}
      },
      "source": [
        "# Criar pipeline\n",
        "standardScaler = StandardScaler()\n",
        "svm = SVC(kernel=\"rbf\", C = 0.1, gamma = 0.1)\n",
        "pipeline = Pipeline([('transformer', standardScaler), \n",
        "                     ('predictor', svm)])\n",
        "\n",
        "# Definir intervalo de valores\n",
        "param_dist = dict(\n",
        "    predictor__gamma = np.logspace(-3, 3, 8),\n",
        "    predictor__C     = np.logspace(-2, 3, 8)\n",
        ")\n",
        "\n",
        "rand = RandomizedSearchCV(pipeline, param_dist, cv=10, \n",
        "                          n_iter = 10, random_state = 2020,\n",
        "                          scoring='accuracy')\n",
        "rand.fit(X, y)\n"
      ],
      "execution_count": null,
      "outputs": []
    },
    {
      "cell_type": "code",
      "metadata": {
        "id": "uH_Kcdv6Zmd5",
        "colab_type": "code",
        "colab": {
          "base_uri": "https://localhost:8080/",
          "height": 52
        },
        "outputId": "d61c634d-fe52-450f-afc1-76d05fa9daa4"
      },
      "source": [
        "rand.cv_results_[\"mean_test_score\"]"
      ],
      "execution_count": null,
      "outputs": [
        {
          "output_type": "execute_result",
          "data": {
            "text/plain": [
              "array([0.9       , 0.96      , 0.96666667, 0.94      , 0.72      ,\n",
              "       0.86666667, 0.97333333, 0.86666667, 0.96      , 0.94666667])"
            ]
          },
          "metadata": {
            "tags": []
          },
          "execution_count": 30
        }
      ]
    },
    {
      "cell_type": "code",
      "metadata": {
        "id": "HVrX5LjHZ1oa",
        "colab_type": "code",
        "colab": {
          "base_uri": "https://localhost:8080/",
          "height": 52
        },
        "outputId": "01ef143b-86ed-4fc9-f51c-6ce634062536"
      },
      "source": [
        "print(rand.best_score_)\n",
        "print(rand.best_params_)"
      ],
      "execution_count": null,
      "outputs": [
        {
          "output_type": "stream",
          "text": [
            "0.9733333333333334\n",
            "{'predictor__gamma': 0.0071968567300115215, 'predictor__C': 7.196856730011521}\n"
          ],
          "name": "stdout"
        }
      ]
    },
    {
      "cell_type": "code",
      "metadata": {
        "id": "jwtDkYSWaEeS",
        "colab_type": "code",
        "colab": {
          "base_uri": "https://localhost:8080/",
          "height": 35
        },
        "outputId": "8f540980-65b3-4f7c-bf14-5ef033b5a66a"
      },
      "source": [
        "rand.predict(new_instances)"
      ],
      "execution_count": null,
      "outputs": [
        {
          "output_type": "execute_result",
          "data": {
            "text/plain": [
              "array([0, 1])"
            ]
          },
          "metadata": {
            "tags": []
          },
          "execution_count": 32
        }
      ]
    },
    {
      "cell_type": "markdown",
      "metadata": {
        "id": "tTIwedSoaPmU",
        "colab_type": "text"
      },
      "source": [
        "## Comparando com o GridSearch"
      ]
    },
    {
      "cell_type": "code",
      "metadata": {
        "id": "qvwhMFA8aSNt",
        "colab_type": "code",
        "colab": {
          "base_uri": "https://localhost:8080/",
          "height": 243
        },
        "outputId": "ab59786e-792f-4042-94fb-0cad1767b6fb"
      },
      "source": [
        "grid = GridSearchCV(pipeline, param_grid=param_dist, \n",
        "                    cv = 10, scoring = \"accuracy\")\n",
        "grid.fit(X, y)\n",
        "grid.cv_results_['mean_test_score']"
      ],
      "execution_count": null,
      "outputs": [
        {
          "output_type": "execute_result",
          "data": {
            "text/plain": [
              "array([0.86      , 0.86      , 0.86      , 0.90666667, 0.9       ,\n",
              "       0.72      , 0.43333333, 0.37333333, 0.86      , 0.86      ,\n",
              "       0.86      , 0.90666667, 0.9       , 0.72      , 0.43333333,\n",
              "       0.37333333, 0.86      , 0.86      , 0.91333333, 0.96      ,\n",
              "       0.94      , 0.72      , 0.43333333, 0.37333333, 0.86      ,\n",
              "       0.89333333, 0.96666667, 0.96666667, 0.95333333, 0.86666667,\n",
              "       0.51333333, 0.40666667, 0.88      , 0.97333333, 0.97333333,\n",
              "       0.96      , 0.94      , 0.86666667, 0.51333333, 0.40666667,\n",
              "       0.96      , 0.98      , 0.96666667, 0.94666667, 0.94      ,\n",
              "       0.86666667, 0.51333333, 0.40666667, 0.98      , 0.96      ,\n",
              "       0.96      , 0.94      , 0.94      , 0.86666667, 0.51333333,\n",
              "       0.40666667, 0.96      , 0.96666667, 0.96      , 0.94      ,\n",
              "       0.94      , 0.86666667, 0.51333333, 0.40666667])"
            ]
          },
          "metadata": {
            "tags": []
          },
          "execution_count": 34
        }
      ]
    },
    {
      "cell_type": "code",
      "metadata": {
        "id": "tCBgV6CAa5TM",
        "colab_type": "code",
        "colab": {
          "base_uri": "https://localhost:8080/",
          "height": 52
        },
        "outputId": "858e4c94-47f5-4647-9678-2a49775151c1"
      },
      "source": [
        "print(grid.best_score_)\n",
        "print(grid.best_params_)"
      ],
      "execution_count": null,
      "outputs": [
        {
          "output_type": "stream",
          "text": [
            "0.9800000000000001\n",
            "{'predictor__C': 37.27593720314942, 'predictor__gamma': 0.0071968567300115215}\n"
          ],
          "name": "stdout"
        }
      ]
    }
  ]
}